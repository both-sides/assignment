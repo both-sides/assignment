{
 "cells": [
  {
   "cell_type": "markdown",
   "metadata": {},
   "source": [
    "# Exercise: RDataFrame basics"
   ]
  },
  {
   "cell_type": "markdown",
   "metadata": {},
   "source": [
    "The file `../data/example_file.root` contains a `TTree` dataset (called `\"dataset\"`) with two scalar columns `a` and `b`.<br>\n",
    "There is a normal distribution hidden in there, but to display it you have to plot the natural logarithm of `a` only for entries in which `b <= 0.5`.\n",
    "\n",
    "### Useful links\n",
    "\n",
    "- [RDataFrame class reference](https://root.cern/doc/master/classROOT_1_1RDataFrame.html)\n",
    "- [RDataFrame tutorials](https://root.cern.ch/doc/master/group__tutorial__dataframe.html)"
   ]
  },
  {
   "cell_type": "code",
   "execution_count": 56,
   "metadata": {},
   "outputs": [],
   "source": [
    "import ROOT as rt"
   ]
  },
  {
   "cell_type": "code",
   "execution_count": 57,
   "metadata": {},
   "outputs": [
    {
     "name": "stdout",
     "output_type": "stream",
     "text": [
      "\u001b[1mTTree  \u001b[0mAug 25 14:32 2021 dataset;1 \"dataset\" \n",
      "  b     \"b/D\"   16071\n",
      "  a     \"a/D\"   16071\n",
      "  vec2  \"vec2\"  47968\n",
      "  vec1  \"vec1\"  47968\n",
      "  \u001b[1mCluster INCLUSIVE ranges:\n",
      "\u001b[0m   - # 0: [0, 1999]\n",
      "  \u001b[1mThe total number of clusters is 1\n",
      "\u001b[0m"
     ]
    }
   ],
   "source": [
    "!rootls -t ../data/example_file.root"
   ]
  },
  {
   "cell_type": "code",
   "execution_count": 58,
   "metadata": {},
   "outputs": [
    {
     "name": "stdout",
     "output_type": "stream",
     "text": [
      "+-----+-----------+----------+-----------+-----------+\n",
      "| Row | a         | b        | vec1      | vec2      | \n",
      "+-----+-----------+----------+-----------+-----------+\n",
      "| 0   | 0.977711  | 0.999742 | -3.220121 | 0.894402  | \n",
      "+-----+-----------+----------+-----------+-----------+\n",
      "| 1   | 2.280201  | 0.484974 | -1.808350 | 0.080087  | \n",
      "|     |           |          | 0.236065  | 0.479906  | \n",
      "|     |           |          | -3.977131 | 0.519888  | \n",
      "|     |           |          | -0.293643 | 0.317273  | \n",
      "+-----+-----------+----------+-----------+-----------+\n",
      "| 2   | 0.563482  | 0.392314 |           |           | \n",
      "+-----+-----------+----------+-----------+-----------+\n",
      "| 3   | 3.042156  | 0.333539 | 0.727539  | 0.796610  | \n",
      "|     |           |          | -3.812584 | 0.331128  | \n",
      "|     |           |          | -2.874165 | -0.002779 | \n",
      "+-----+-----------+----------+-----------+-----------+\n",
      "| 4   | 28.574399 | 0.648126 | -4.706250 | 0.427770  | \n",
      "|     |           |          | -4.449087 | -0.800848 | \n",
      "|     |           |          | 0.028836  | 0.398534  | \n",
      "+-----+-----------+----------+-----------+-----------+\n"
     ]
    }
   ],
   "source": [
    "treename = \"dataset\"\n",
    "filename = \"../data/example_file.root\"\n",
    "df0 = rt.RDataFrame(treename, filename)\n",
    "df0.Display().Print()"
   ]
  },
  {
   "cell_type": "code",
   "execution_count": 59,
   "metadata": {},
   "outputs": [],
   "source": [
    "df = df0.Filter(\"b<=0.5\", \"b > 0.5 filter\")"
   ]
  },
  {
   "cell_type": "code",
   "execution_count": 60,
   "metadata": {},
   "outputs": [],
   "source": [
    "df = df.Define(\"ln_a\", \"log(a)\")"
   ]
  },
  {
   "cell_type": "code",
   "execution_count": 61,
   "metadata": {},
   "outputs": [
    {
     "name": "stdout",
     "output_type": "stream",
     "text": [
      "+-----+----------+----------+-----------+-----------+-----------+\n",
      "| Row | a        | b        | ln_a      | vec1      | vec2      | \n",
      "+-----+----------+----------+-----------+-----------+-----------+\n",
      "| 1   | 2.280201 | 0.484974 | 0.824264  | -1.808350 | 0.080087  | \n",
      "|     |          |          |           | 0.236065  | 0.479906  | \n",
      "|     |          |          |           | -3.977131 | 0.519888  | \n",
      "|     |          |          |           | -0.293643 | 0.317273  | \n",
      "+-----+----------+----------+-----------+-----------+-----------+\n",
      "| 2   | 0.563482 | 0.392314 | -0.573619 |           |           | \n",
      "+-----+----------+----------+-----------+-----------+-----------+\n",
      "| 3   | 3.042156 | 0.333539 | 1.112566  | 0.727539  | 0.796610  | \n",
      "|     |          |          |           | -3.812584 | 0.331128  | \n",
      "|     |          |          |           | -2.874165 | -0.002779 | \n",
      "+-----+----------+----------+-----------+-----------+-----------+\n",
      "| 5   | 0.311502 | 0.207780 | -1.166350 |           |           | \n",
      "+-----+----------+----------+-----------+-----------+-----------+\n",
      "| 7   | 0.819373 | 0.431845 | -0.199216 | 0.074173  | -0.658658 | \n",
      "|     |          |          |           | -4.458142 | -0.118358 | \n",
      "|     |          |          |           | -4.070294 | -0.909327 | \n",
      "|     |          |          |           | -0.478719 | -0.377407 | \n",
      "+-----+----------+----------+-----------+-----------+-----------+\n"
     ]
    }
   ],
   "source": [
    "df.Display().Print()"
   ]
  },
  {
   "cell_type": "code",
   "execution_count": null,
   "metadata": {},
   "outputs": [],
   "source": [
    "c = rt.TCanvas(\"c\", \"canvas\", 800, 600)\n",
    "h = df.Histo1D((\"h\", \"natural dist\", 100, -4, 4), \"ln_a\")\n",
    "h.Draw()\n",
    "c.Draw()"
   ]
  },
  {
   "cell_type": "code",
   "execution_count": null,
   "metadata": {},
   "outputs": [],
   "source": []
  }
 ],
 "metadata": {
  "kernelspec": {
   "display_name": "Python 3 (ipykernel)",
   "language": "python",
   "name": "python3"
  },
  "language_info": {
   "codemirror_mode": {
    "name": "ipython",
    "version": 3
   },
   "file_extension": ".py",
   "mimetype": "text/x-python",
   "name": "python",
   "nbconvert_exporter": "python",
   "pygments_lexer": "ipython3",
   "version": "3.9.14"
  }
 },
 "nbformat": 4,
 "nbformat_minor": 4
}
