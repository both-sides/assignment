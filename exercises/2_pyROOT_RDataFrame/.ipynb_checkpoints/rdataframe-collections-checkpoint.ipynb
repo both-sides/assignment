{
 "cells": [
  {
   "cell_type": "markdown",
   "id": "41ca9b9e",
   "metadata": {},
   "source": [
    "# Exercise: RDataFrame and collections"
   ]
  },
  {
   "cell_type": "markdown",
   "id": "c5657ad2",
   "metadata": {},
   "source": [
    "The same dataset used in the previous exercise (`TTree` \"dataset\" in file `../data/example_file.root`) contains two vector columns `vec1` and `vec2`.<br>\n",
    "The elements of `vec1` are distributed as a mixture of Gaussians, plus background noise.<br>\n",
    "To remove the background noise, select the elements of `vec1` for which the square of the corresponding elements in `vec2` is less than 0.1.\n",
    "\n",
    "Where are the peaks of this mixture of Gaussians?\n",
    "\n",
    "### Useful links\n",
    "\n",
    "- [RDataFrame: working with collections](https://root.cern/doc/master/classROOT_1_1RDataFrame.html#collections)\n",
    "- [RVec reference](https://root.cern/doc/master/classROOT_1_1VecOps_1_1RVec.html)"
   ]
  },
  {
   "cell_type": "code",
   "execution_count": 12,
   "id": "4dea17f9",
   "metadata": {},
   "outputs": [],
   "source": [
    "import ROOT as rt"
   ]
  },
  {
   "cell_type": "code",
   "execution_count": 13,
   "id": "77574659-573d-4510-9919-4d570de62c5b",
   "metadata": {},
   "outputs": [],
   "source": [
    "treename = \"dataset\"\n",
    "filename = \"../data/example_file.root\"\n",
    "df0 = rt.RDataFrame(treename, filename)\n",
    "\n",
    "df = df0.Define(\"vec3\", \"vec1[(vec2*vec2) < 0.1]\")"
   ]
  },
  {
   "cell_type": "code",
   "execution_count": 14,
   "id": "a23efb6b-0a1a-4c93-89b1-23e5122a9f6b",
   "metadata": {
    "scrolled": true
   },
   "outputs": [
    {
     "name": "stdout",
     "output_type": "stream",
     "text": [
      "+-----+-----------+----------+-----------+-----------+-----------+\n",
      "| Row | a         | b        | vec1      | vec2      | vec3      | \n",
      "+-----+-----------+----------+-----------+-----------+-----------+\n",
      "| 0   | 0.977711  | 0.999742 | -3.220121 | 0.894402  |           | \n",
      "+-----+-----------+----------+-----------+-----------+-----------+\n",
      "| 1   | 2.280201  | 0.484974 | -1.808350 | 0.080087  | -1.808350 | \n",
      "|     |           |          | 0.236065  | 0.479906  |           | \n",
      "|     |           |          | -3.977131 | 0.519888  |           | \n",
      "|     |           |          | -0.293643 | 0.317273  |           | \n",
      "+-----+-----------+----------+-----------+-----------+-----------+\n",
      "| 2   | 0.563482  | 0.392314 |           |           |           | \n",
      "+-----+-----------+----------+-----------+-----------+-----------+\n",
      "| 3   | 3.042156  | 0.333539 | 0.727539  | 0.796610  | -2.874165 | \n",
      "|     |           |          | -3.812584 | 0.331128  |           | \n",
      "|     |           |          | -2.874165 | -0.002779 |           | \n",
      "+-----+-----------+----------+-----------+-----------+-----------+\n",
      "| 4   | 28.574399 | 0.648126 | -4.706250 | 0.427770  |           | \n",
      "|     |           |          | -4.449087 | -0.800848 |           | \n",
      "|     |           |          | 0.028836  | 0.398534  |           | \n",
      "+-----+-----------+----------+-----------+-----------+-----------+\n"
     ]
    }
   ],
   "source": [
    "df.Display().Print()"
   ]
  },
  {
   "cell_type": "code",
   "execution_count": 15,
   "id": "164af9fc-6ad5-45d8-906c-f4aa5a233b60",
   "metadata": {},
   "outputs": [
    {
     "name": "stdout",
     "output_type": "stream",
     "text": [
      "****************************************\n",
      "Minimizer is Minuit2 / Migrad\n",
      "Chi2                      =      22.9223\n",
      "NDf                       =           22\n",
      "Edm                       =  1.68077e-08\n",
      "NCalls                    =           60\n",
      "Constant                  =      44.3367   +/-   2.34711     \n",
      "Mean                      =     -1.96118   +/-   0.0524629   \n",
      "Sigma                     =      1.10619   +/-   0.0395153    \t (limited)\n",
      "****************************************\n",
      "Minimizer is Minuit2 / Migrad\n",
      "Chi2                      =      28.9795\n",
      "NDf                       =           22\n",
      "Edm                       =  5.57217e-07\n",
      "NCalls                    =           53\n",
      "Constant                  =      86.6458   +/-   3.46472     \n",
      "Mean                      =      3.01267   +/-   0.0314258   \n",
      "Sigma                     =     0.940499   +/-   0.0223222    \t (limited)\n"
     ]
    },
    {
     "name": "stderr",
     "output_type": "stream",
     "text": [
      "Warning in <TCanvas::Constructor>: Deleting canvas with same name: c\n"
     ]
    },
    {
     "data": {
      "image/png": "[encoded data removed]",
      "text/plain": [
       "<IPython.core.display.Image object>"
      ]
     },
     "metadata": {},
     "output_type": "display_data"
    }
   ],
   "source": [
    "c = rt.TCanvas(\"c\", \"canvas\", 800, 600)\n",
    "h = df.Histo1D((\"vecs\", \"gaussian distributions\", 64, -7, 7),\"vec3\")\n",
    "\n",
    "gaus1 = rt.TF1(\"Gaus1\",\"gaus\",-5, 0.5)\n",
    "gaus2 = rt.TF1(\"Gaus2\",\"gaus\",0.5, 6)\n",
    "\n",
    "h.Fit(gaus1, \"R\")\n",
    "h.Fit(gaus2, \"R+\")\n",
    "\n",
    "h.Draw()\n",
    "c.Draw()"
   ]
  },
  {
   "cell_type": "code",
   "execution_count": null,
   "id": "5ae414b5-d4a3-49e3-9b86-f10383ac2995",
   "metadata": {},
   "outputs": [],
   "source": []
  }
 ],
 "metadata": {
  "kernelspec": {
   "display_name": "Python 3 (ipykernel)",
   "language": "python",
   "name": "python3"
  },
  "language_info": {
   "codemirror_mode": {
    "name": "ipython",
    "version": 3
   },
   "file_extension": ".py",
   "mimetype": "text/x-python",
   "name": "python",
   "nbconvert_exporter": "python",
   "pygments_lexer": "ipython3",
   "version": "3.9.14"
  }
 },
 "nbformat": 4,
 "nbformat_minor": 5
}
